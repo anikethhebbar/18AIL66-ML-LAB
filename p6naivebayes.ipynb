{
  "nbformat": 4,
  "nbformat_minor": 0,
  "metadata": {
    "colab": {
      "provenance": []
    },
    "kernelspec": {
      "name": "python3",
      "display_name": "Python 3"
    },
    "language_info": {
      "name": "python"
    }
  },
  "cells": [
    {
      "cell_type": "code",
      "execution_count": null,
      "metadata": {
        "colab": {
          "base_uri": "https://localhost:8080/"
        },
        "id": "IDatCJJr2fMr",
        "outputId": "a40164fd-26a3-4717-ce26-c58d01c1ee58"
      },
      "outputs": [
        {
          "output_type": "stream",
          "name": "stdout",
          "text": [
            "Gaussian Naive Bayes model accuracy(in %): 100.0\n"
          ]
        }
      ],
      "source": [
        "from sklearn.datasets import load_iris\n",
        "iris = load_iris()\n",
        "X = iris.data\n",
        "y = iris.target\n",
        "from sklearn.model_selection import train_test_split\n",
        "X_train, X_test, y_train, y_test = train_test_split(X, y, test_size=0.2, random_state=42)\n",
        "from sklearn.naive_bayes import GaussianNB\n",
        "gnb = GaussianNB()\n",
        "gnb.fit(X_train, y_train)\n",
        "y_pred = gnb.predict(X_test)\n",
        "from sklearn import metrics\n",
        "print(\"Gaussian Naive Bayes model accuracy(in %):\", metrics.accuracy_score(y_test,y_pred)*100)"
      ]
    },
    {
      "cell_type": "code",
      "source": [
        "# import necessary libraries\n",
        "import pandas as pd\n",
        "from sklearn.preprocessing import LabelEncoder\n",
        "from sklearn.naive_bayes import GaussianNB\n",
        "from sklearn.model_selection import train_test_split\n",
        "from sklearn.metrics import accuracy_score\n",
        "\n",
        "# Load Data from CSV\n",
        "data = pd.read_csv('playtennis.csv')\n",
        "print(\"The first 5 Values of data is :\\n\", data.head())\n",
        "\n",
        "# obtain train data and train output\n",
        "X = data.iloc[:, :-1]\n",
        "print(\"\\nThe First 5 values of the train data is\\n\", X.head())\n",
        "\n",
        "y = data.iloc[:, -1]\n",
        "print(\"\\nThe First 5 values of train output is\\n\", y.head())\n",
        "\n",
        "# convert categorical data to numeric using label encoding\n",
        "le = LabelEncoder()\n",
        "X = X.apply(le.fit_transform)\n",
        "y = le.fit_transform(y)\n",
        "\n",
        "print(\"\\nNow the Train data is\\n\", X.head())\n",
        "print(\"\\nNow the Train output is\\n\", y)\n",
        "\n",
        "# split data into training and testing sets\n",
        "X_train, X_test, y_train, y_test = train_test_split(X, y, test_size=0.2)\n",
        "\n",
        "# create and fit the classifier\n",
        "classifier = GaussianNB()\n",
        "classifier.fit(X_train, y_train)\n",
        "\n",
        "# evaluate the accuracy of the classifier\n",
        "y_pred = classifier.predict(X_test)\n",
        "accuracy = accuracy_score(y_test, y_pred)\n",
        "print(\"Accuracy is:\", accuracy)"
      ],
      "metadata": {
        "id": "G5L58M8m2iof",
        "outputId": "a6903129-34be-4d2e-8692-328f669955e6",
        "colab": {
          "base_uri": "https://localhost:8080/"
        }
      },
      "execution_count": 2,
      "outputs": [
        {
          "output_type": "stream",
          "name": "stdout",
          "text": [
            "The first 5 Values of data is :\n",
            "     Outlook Temperature Humidity    Wind Play Tennis\n",
            "0     Sunny         Hot     High    Weak          No\n",
            "1     Sunny         Hot     High  Strong          No\n",
            "2  Overcast         Hot     High    Weak         Yes\n",
            "3      Rain        Mild     High    Weak         Yes\n",
            "4      Rain        Cool   Normal    Weak         Yes\n",
            "\n",
            "The First 5 values of the train data is\n",
            "     Outlook Temperature Humidity    Wind\n",
            "0     Sunny         Hot     High    Weak\n",
            "1     Sunny         Hot     High  Strong\n",
            "2  Overcast         Hot     High    Weak\n",
            "3      Rain        Mild     High    Weak\n",
            "4      Rain        Cool   Normal    Weak\n",
            "\n",
            "The First 5 values of train output is\n",
            " 0     No\n",
            "1     No\n",
            "2    Yes\n",
            "3    Yes\n",
            "4    Yes\n",
            "Name: Play Tennis, dtype: object\n",
            "\n",
            "Now the Train data is\n",
            "    Outlook  Temperature  Humidity  Wind\n",
            "0        2            1         0     1\n",
            "1        2            1         0     0\n",
            "2        0            1         0     1\n",
            "3        1            2         0     1\n",
            "4        1            0         1     1\n",
            "\n",
            "Now the Train output is\n",
            " [0 0 1 1 1 0 1 0 1 1 1 1 1 0]\n",
            "Accuracy is: 0.6666666666666666\n"
          ]
        }
      ]
    }
  ]
}