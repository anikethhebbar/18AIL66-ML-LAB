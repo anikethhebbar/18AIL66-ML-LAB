{
  "nbformat": 4,
  "nbformat_minor": 0,
  "metadata": {
    "colab": {
      "provenance": []
    },
    "kernelspec": {
      "name": "python3",
      "display_name": "Python 3"
    },
    "language_info": {
      "name": "python"
    }
  },
  "cells": [
    {
      "cell_type": "code",
      "execution_count": null,
      "metadata": {
        "colab": {
          "base_uri": "https://localhost:8080/"
        },
        "id": "KCplcI4PHVxM",
        "outputId": "b6a72898-252a-46de-89ee-6d94c742823d"
      },
      "outputs": [
        {
          "output_type": "stream",
          "name": "stdout",
          "text": [
            "Iteration 4: specific hypothesis = ['sunny' 'warm' '?' 'strong' '?' '?'], general hypothesise =[['sunny', '?', '?', '?', '?', '?'], ['?', 'warm', '?', '?', '?', '?']]\n",
            "specific Hypothesis ['sunny' 'warm' '?' 'strong' '?' '?']\n",
            "general Hypothesis [['sunny', '?', '?', '?', '?', '?'], ['?', 'warm', '?', '?', '?', '?']]\n"
          ]
        }
      ],
      "source": [
        "import numpy as np\n",
        "def candidate_algo(concept,target):\n",
        "    specific_h = concept[0].copy()\n",
        "    general_h = [[\"?\" for _ in range (len(specific_h))]for _ in range (len(specific_h))]\n",
        "\n",
        "    for i ,concept in enumerate(concept):\n",
        "        if target[i] == \"Y\":\n",
        "            for j in range (len(specific_h)):\n",
        "                if concept[j] != specific_h[j]:\n",
        "                    specific_h[j] = \"?\"\n",
        "                    general_h[j][j] = \"?\"\n",
        "\n",
        "        if target[i] == \"N\":\n",
        "            for j in range (len(specific_h)):\n",
        "                if concept[j] != specific_h[j]:\n",
        "                    general_h[j][j] =  specific_h[j]\n",
        "                else:\n",
        "                    general_h[j][j] = \"?\"\n",
        "    general_h=[hp for hp in general_h if hp!=[\"?\" for _ in range (len(specific_h))]]\n",
        "\n",
        "    print(f\"Iteration {i+1}: specific hypothesis = {specific_h}, general hypothesise ={general_h}\")\n",
        "\n",
        "    return specific_h,general_h\n",
        "concept = np.array([\n",
        "      ['sunny','warm','normal','strong','warm','same'],\n",
        "      ['sunny','warm','high','strong','warm','same'],\n",
        "      ['rainy','cold','high','strong','warm','change'],\n",
        "      ['sunny','warm','high','strong','cold','change']\n",
        "])\n",
        "target = np.array(['Y','Y','N','Y'])\n",
        "specific,general = candidate_algo(concept,target)\n",
        "print(\"specific Hypothesis\",specific)\n",
        "print(\"general Hypothesis\",general)\n"
      ]
    }
  ]
}