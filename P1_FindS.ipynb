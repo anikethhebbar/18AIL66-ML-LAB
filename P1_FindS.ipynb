{
  "cells": [
    {
      "cell_type": "code",
      "source": [
        "import numpy as np\n",
        "\n",
        "def find_S(concept, target):\n",
        "    # Initialize the specific hypothesis to a list of \"0\" strings\n",
        "    specific_h = [\"0\" for _ in range(len(concept[0]))]\n",
        "\n",
        "    # Loop over each example in the concept array\n",
        "    for i, concept in enumerate(concept):\n",
        "        # If the example matches the target concept, update the specific hypothesis\n",
        "        if target[i] == \"Y\":\n",
        "            # Loop over each attribute in the example\n",
        "            for j in range(len(specific_h)):\n",
        "                # If the attribute in the specific hypothesis is still \"0\", update it to the value in the example\n",
        "                if specific_h[j] == \"0\":\n",
        "                    specific_h[j] = concept[j]\n",
        "                # If the attribute in the specific hypothesis is not \"0\" but does not match the value in the example, update it to \"?\"\n",
        "                elif specific_h[j] != concept[j]:\n",
        "                    specific_h[j] = \"?\"\n",
        "\n",
        "        # Print the specific hypothesis at each iteration of the loop\n",
        "        print(f\"Iteration {i+1}: specific hypothesis = {specific_h}\")\n",
        "\n",
        "    # Return the final specific hypothesis\n",
        "    return specific_h\n",
        "\n",
        "# Define the concept array and target concept\n",
        "concept = np.array([\n",
        "    ['sunny', 'warm', 'normal', 'strong', 'warm', 'same'],\n",
        "    ['sunny', 'warm', 'high', 'strong', 'warm', 'same'],\n",
        "    ['rainy', 'cold', 'high', 'strong', 'warm', 'change'],\n",
        "    ['sunny', 'warm', 'high', 'strong', 'cold', 'change']\n",
        "])\n",
        "\n",
        "target = np.array(['Y', 'Y', 'N', 'Y'])\n",
        "\n",
        "# Call the find_S function and print the final specific hypothesis\n",
        "specific = find_S(concept, target)\n",
        "print(\"\\nFinal specific Hypothesis:\", specific)"
      ],
      "metadata": {
        "colab": {
          "base_uri": "https://localhost:8080/"
        },
        "id": "ltoM5-7Eup9P",
        "outputId": "d62204af-c1de-494a-c2ba-2bb9db35143e"
      },
      "id": "ltoM5-7Eup9P",
      "execution_count": 17,
      "outputs": [
        {
          "output_type": "stream",
          "name": "stdout",
          "text": [
            "Iteration 1: specific hypothesis = ['sunny', 'warm', 'normal', 'strong', 'warm', 'same']\n",
            "Iteration 2: specific hypothesis = ['sunny', 'warm', '?', 'strong', 'warm', 'same']\n",
            "Iteration 3: specific hypothesis = ['sunny', 'warm', '?', 'strong', 'warm', 'same']\n",
            "Iteration 4: specific hypothesis = ['sunny', 'warm', '?', 'strong', '?', '?']\n",
            "\n",
            "Final specific Hypothesis: ['sunny', 'warm', '?', 'strong', '?', '?']\n"
          ]
        }
      ]
    },
    {
      "cell_type": "code",
      "source": [],
      "metadata": {
        "id": "12P9zjbPuqt9"
      },
      "id": "12P9zjbPuqt9",
      "execution_count": null,
      "outputs": []
    }
  ],
  "metadata": {
    "kernelspec": {
      "display_name": "Python 3 (ipykernel)",
      "language": "python",
      "name": "python3"
    },
    "language_info": {
      "codemirror_mode": {
        "name": "ipython",
        "version": 3
      },
      "file_extension": ".py",
      "mimetype": "text/x-python",
      "name": "python",
      "nbconvert_exporter": "python",
      "pygments_lexer": "ipython3",
      "version": "3.10.0"
    },
    "colab": {
      "provenance": []
    }
  },
  "nbformat": 4,
  "nbformat_minor": 5
}