{
  "cells": [
    {
      "cell_type": "code",
      "execution_count": null,
      "id": "ca629b37",
      "metadata": {
        "id": "ca629b37"
      },
      "outputs": [],
      "source": [
        "from sklearn.datasets import fetch_20newsgroups\n",
        "from sklearn.feature_extraction.text import CountVectorizer\n",
        "from sklearn.naive_bayes import MultinomialNB\n",
        "from sklearn.metrics import accuracy_score, precision_score, recall_score"
      ]
    },
    {
      "cell_type": "code",
      "execution_count": null,
      "id": "c8cdbe66",
      "metadata": {
        "id": "c8cdbe66"
      },
      "outputs": [],
      "source": [
        "newsgroups_train=fetch_20newsgroups(subset='train')\n",
        "newsgroups_test=fetch_20newsgroups(subset='test')"
      ]
    },
    {
      "cell_type": "code",
      "execution_count": null,
      "id": "3be34e99",
      "metadata": {
        "id": "3be34e99"
      },
      "outputs": [],
      "source": [
        "vectorizer=CountVectorizer()\n",
        "X_train=vectorizer.fit_transform(newsgroups_train.data)\n",
        "X_test=vectorizer.transform(newsgroups_test.data)"
      ]
    },
    {
      "cell_type": "code",
      "execution_count": null,
      "id": "e66b71fc",
      "metadata": {
        "id": "e66b71fc"
      },
      "outputs": [],
      "source": [
        "y_train=newsgroups_train.target\n",
        "y_test=newsgroups_test.target"
      ]
    },
    {
      "cell_type": "code",
      "execution_count": null,
      "id": "a1680653",
      "metadata": {
        "id": "a1680653"
      },
      "outputs": [],
      "source": [
        "nb=MultinomialNB()\n",
        "nb.fit(X_train,y_train)\n",
        "y_pred=nb.predict(X_test)"
      ]
    },
    {
      "cell_type": "code",
      "execution_count": null,
      "id": "2a57b274",
      "metadata": {
        "id": "2a57b274"
      },
      "outputs": [],
      "source": [
        "accuracy=accuracy_score(y_test,y_pred)\n",
        "precision=precision_score(y_test,y_pred,average='weighted')\n",
        "recall=recall_score(y_test,y_pred,average='weighted')"
      ]
    },
    {
      "cell_type": "code",
      "execution_count": null,
      "id": "ae677268",
      "metadata": {
        "id": "ae677268",
        "outputId": "6af22d8b-85ce-40a4-c05a-f361450a0895"
      },
      "outputs": [
        {
          "name": "stdout",
          "output_type": "stream",
          "text": [
            "accuracy 0.7728359001593202\n",
            "precision 0.7616683207318354\n",
            "recall 0.7728359001593202\n"
          ]
        }
      ],
      "source": [
        "print(\"accuracy\",accuracy)\n",
        "print(\"precision\",precision)\n",
        "print(\"recall\",recall)"
      ]
    },
    {
      "cell_type": "code",
      "execution_count": null,
      "id": "d9eaf192",
      "metadata": {
        "id": "d9eaf192",
        "outputId": "f2db038c-9aca-4495-b4b0-816bbb0800af"
      },
      "outputs": [
        {
          "name": "stdout",
          "output_type": "stream",
          "text": [
            "confusion matrix \n",
            " [[245   0   0   1   0   1   0   0   1   0   2   1   1   2   2  41   2  11\n",
            "    5   4]\n",
            " [  1 287   0  12   4  31   1   0   0   1   0  26   5   2   8   2   2   1\n",
            "    6   0]\n",
            " [  2  55   1 134  13 112   2   0   1   3   1  31   4   4   8   5   2   1\n",
            "   14   1]\n",
            " [  0  11   1 300  15  11   3   5   0   0   1  11  23   0   5   0   1   2\n",
            "    3   0]\n",
            " [  0  12   1  22 289   5   3   5   1   1   0  14  10   3   3   1   4   2\n",
            "    9   0]\n",
            " [  1  25   2  11   1 332   0   0   0   0   0  13   0   2   4   1   2   1\n",
            "    0   0]\n",
            " [  0   6   0  35  17   3 253  16   4   1   4   6  16   7   6   2   5   4\n",
            "    5   0]\n",
            " [  0   1   0   2   0   0   4 360   3   2   2   3   0   0   4   0   4   2\n",
            "    9   0]\n",
            " [  0   0   0   1   0   0   2  13 365   0   0   4   0   0   0   1   3   4\n",
            "    5   0]\n",
            " [  1   1   0   0   1   1   0   6   0 345  16   0   0   0   5   6   2   2\n",
            "   11   0]\n",
            " [  0   0   0   0   0   0   0   0   0   2 385   1   0   1   1   3   1   2\n",
            "    3   0]\n",
            " [  0   3   0   0   0   2   1   2   0   0   0 377   2   1   1   0   2   1\n",
            "    4   0]\n",
            " [  0  14   0  17   5   5   0   5   1   0   1  58 261  11   6   2   1   3\n",
            "    3   0]\n",
            " [  7   6   0   2   0   0   1   1   0   2   1   4   5 325   3  16   1   7\n",
            "   15   0]\n",
            " [  1   4   0   0   0   4   0   1   0   0   0   1   2   4 351   5   2   3\n",
            "   16   0]\n",
            " [  3   2   0   0   0   1   0   0   0   0   1   0   0   2   2 382   0   1\n",
            "    0   4]\n",
            " [  0   0   0   1   0   0   1   0   3   0   0   6   0   1   0   2 330   6\n",
            "   13   1]\n",
            " [  1   1   0   0   0   2   0   0   0   1   0   3   0   2   0   3   2 354\n",
            "    7   0]\n",
            " [  1   0   0   0   0   0   0   1   0   0   0   4   0   2  10   5  87   5\n",
            "  195   0]\n",
            " [ 47   2   0   0   0   0   0   0   0   0   1   2   0   3   3  70  22   5\n",
            "   12  84]]\n"
          ]
        }
      ],
      "source": [
        "from sklearn.metrics import confusion_matrix\n",
        "print(\"confusion matrix \\n\",confusion_matrix(y_test,y_pred))"
      ]
    },
    {
      "cell_type": "code",
      "execution_count": 1,
      "id": "1133278f",
      "metadata": {
        "colab": {
          "base_uri": "https://localhost:8080/"
        },
        "id": "1133278f",
        "outputId": "42101627-8d1b-4c58-8fda-e82780f14561"
      },
      "outputs": [
        {
          "output_type": "stream",
          "name": "stdout",
          "text": [
            "2257\n",
            "1502\n",
            "['alt.atheism', 'comp.graphics', 'sci.med', 'soc.religion.christian']\n",
            "From: sd345@city.ac.uk (Michael Collier)\n",
            "Subject: Converting images to HP LaserJet III?\n",
            "Nntp-Posting-Host: hampton\n",
            "Organization: The City University\n",
            "Lines: 14\n",
            "\n",
            "Does anyone know of a good way (standard PC application/PD utility) to\n",
            "convert tif/img/tga files into LaserJet III format.  We would also like to\n",
            "do the same, converting to HPGL (HP plotter) files.\n",
            "\n",
            "Please email any response.\n",
            "\n",
            "Is this the correct group?\n",
            "\n",
            "Thanks in advance.  Michael.\n",
            "-- \n",
            "Michael Collier (Programmer)                 The Computer Unit,\n",
            "Email: M.P.Collier@uk.ac.city                The City University,\n",
            "Tel: 071 477-8000 x3769                      London,\n",
            "Fax: 071 477-8565                            EC1V 0HB.\n",
            "\n",
            "1\n",
            "Accuracy: 0.8348868175765646\n",
            "                        precision    recall  f1-score   support\n",
            "\n",
            "           alt.atheism       0.97      0.60      0.74       319\n",
            "         comp.graphics       0.96      0.89      0.92       389\n",
            "               sci.med       0.97      0.81      0.88       396\n",
            "soc.religion.christian       0.65      0.99      0.78       398\n",
            "\n",
            "              accuracy                           0.83      1502\n",
            "             macro avg       0.89      0.82      0.83      1502\n",
            "          weighted avg       0.88      0.83      0.84      1502\n",
            "\n",
            "Confusion matrix:\n",
            " [[192   2   6 119]\n",
            " [  2 347   4  36]\n",
            " [  2  11 322  61]\n",
            " [  2   2   1 393]]\n"
          ]
        }
      ],
      "source": [
        "from sklearn.datasets import fetch_20newsgroups\n",
        "from sklearn.metrics import confusion_matrix\n",
        "from sklearn.metrics import classification_report\n",
        "import numpy as np\n",
        "\n",
        "categories = ['alt.atheism', 'soc.religion.christian', 'comp.graphics', 'sci.med']\n",
        "twenty_train = fetch_20newsgroups(subset='train', categories=categories, shuffle=True)\n",
        "twenty_test = fetch_20newsgroups(subset='test', categories=categories, shuffle=True)\n",
        "\n",
        "print(len(twenty_train.data))\n",
        "print(len(twenty_test.data))\n",
        "print(twenty_train.target_names)\n",
        "print(\"\\n\".join(twenty_train.data[0].split(\"\\n\")))\n",
        "print(twenty_train.target[0])\n",
        "\n",
        "from sklearn.feature_extraction.text import CountVectorizer\n",
        "count_vect = CountVectorizer()\n",
        "X_train_tf = count_vect.fit_transform(twenty_train.data)\n",
        "\n",
        "from sklearn.feature_extraction.text import TfidfTransformer\n",
        "tfidf_transformer = TfidfTransformer()\n",
        "X_train_tfidf = tfidf_transformer.fit_transform(X_train_tf)\n",
        "X_train_tfidf.shape\n",
        "\n",
        "from sklearn.naive_bayes import MultinomialNB\n",
        "from sklearn.metrics import accuracy_score\n",
        "from sklearn import metrics\n",
        "\n",
        "mod = MultinomialNB()\n",
        "mod.fit(X_train_tfidf, twenty_train.target)\n",
        "\n",
        "X_test_tf = count_vect.transform(twenty_test.data)\n",
        "X_test_tfidf = tfidf_transformer.transform(X_test_tf)\n",
        "predicted = mod.predict(X_test_tfidf)\n",
        "\n",
        "print(\"Accuracy:\", accuracy_score(twenty_test.target, predicted))\n",
        "print(classification_report(twenty_test.target, predicted, target_names=twenty_test.target_names))\n",
        "print(\"Confusion matrix:\\n\", metrics.confusion_matrix(twenty_test.target, predicted))\n"
      ]
    }
  ],
  "metadata": {
    "kernelspec": {
      "display_name": "Python 3 (ipykernel)",
      "language": "python",
      "name": "python3"
    },
    "language_info": {
      "codemirror_mode": {
        "name": "ipython",
        "version": 3
      },
      "file_extension": ".py",
      "mimetype": "text/x-python",
      "name": "python",
      "nbconvert_exporter": "python",
      "pygments_lexer": "ipython3",
      "version": "3.11.3"
    },
    "colab": {
      "provenance": []
    }
  },
  "nbformat": 4,
  "nbformat_minor": 5
}