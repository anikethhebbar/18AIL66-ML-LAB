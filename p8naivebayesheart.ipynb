{
  "nbformat": 4,
  "nbformat_minor": 0,
  "metadata": {
    "colab": {
      "provenance": []
    },
    "kernelspec": {
      "name": "python3",
      "display_name": "Python 3"
    },
    "language_info": {
      "name": "python"
    }
  },
  "cells": [
    {
      "cell_type": "code",
      "execution_count": 16,
      "metadata": {
        "colab": {
          "base_uri": "https://localhost:8080/"
        },
        "id": "cuIioP9hkf4h",
        "outputId": "f4ecf133-517a-4a90-d114-d960bfc0fc87"
      },
      "outputs": [
        {
          "output_type": "stream",
          "name": "stdout",
          "text": [
            "Few examples from the dataset are given below\n",
            "   age  sex  cp  trestbps  chol  fbs  restecg  thalach  exang  oldpeak  slope  \\\n",
            "0   52    1   0       125   212    0        1      168      0      1.0      2   \n",
            "1   53    1   0       140   203    1        0      155      1      3.1      0   \n",
            "2   70    1   0       145   174    0        1      125      1      2.6      0   \n",
            "3   61    1   0       148   203    0        1      161      0      0.0      2   \n",
            "4   62    0   0       138   294    1        1      106      0      1.9      1   \n",
            "\n",
            "   ca  thal  heartdisease  \n",
            "0   2     3             0  \n",
            "1   0     3             0  \n",
            "2   0     3             0  \n",
            "3   1     3             0  \n",
            "4   3     2             0  \n",
            "\n",
            "Learning CPD using Maximum likelihood estimators\n",
            "\n",
            "Inferencing with Bayesian Network:\n",
            "\n",
            "1. Probability of HeartDisease given Age=52\n",
            "+-----------------+---------------------+\n",
            "| heartdisease    |   phi(heartdisease) |\n",
            "+=================+=====================+\n",
            "| heartdisease(0) |              0.4535 |\n",
            "+-----------------+---------------------+\n",
            "| heartdisease(1) |              0.5465 |\n",
            "+-----------------+---------------------+\n"
          ]
        },
        {
          "output_type": "stream",
          "name": "stderr",
          "text": [
            "/usr/local/lib/python3.10/dist-packages/pgmpy/models/BayesianModel.py:8: FutureWarning: BayesianModel has been renamed to BayesianNetwork. Please use BayesianNetwork class, BayesianModel will be removed in future.\n",
            "  warnings.warn(\n",
            "/usr/local/lib/python3.10/dist-packages/pgmpy/models/BayesianModel.py:8: FutureWarning: BayesianModel has been renamed to BayesianNetwork. Please use BayesianNetwork class, BayesianModel will be removed in future.\n",
            "  warnings.warn(\n"
          ]
        }
      ],
      "source": [
        "import numpy as np\n",
        "import csv\n",
        "import pandas as pd\n",
        "from pgmpy.models import BayesianModel\n",
        "from pgmpy.estimators import MaximumLikelihoodEstimator\n",
        "from pgmpy.inference import VariableElimination\n",
        "\n",
        "# Read Cleveland Heart Disease data\n",
        "heartDisease = pd.read_csv('heart.csv')\n",
        "heartDisease = heartDisease.replace('?', np.nan)\n",
        "\n",
        "# Display the data\n",
        "print('Few examples from the dataset are given below')\n",
        "print(heartDisease.head())\n",
        "\n",
        "# Model Bayesian Network\n",
        "model = BayesianModel([('age', 'trestbps'), ('age', 'fbs'), ('sex', 'trestbps'), ('exang', 'trestbps'),\n",
        "                       ('trestbps', 'heartdisease'), ('fbs', 'heartdisease'), ('heartdisease', 'restecg'),\n",
        "                       ('heartdisease', 'thalach'), ('heartdisease', 'chol')])\n",
        "\n",
        "# Learning CPDs using Maximum Likelihood Estimators\n",
        "print('\\nLearning CPD using Maximum likelihood estimators')\n",
        "model.fit(heartDisease, estimator=MaximumLikelihoodEstimator)\n",
        "\n",
        "# Inferencing with Bayesian Network\n",
        "print('\\nInferencing with Bayesian Network:')\n",
        "HeartDisease_infer = VariableElimination(model)\n",
        "\n",
        "# Computing the Probability of HeartDisease given Age\n",
        "print('\\n1. Probability of HeartDisease given Age=52')\n",
        "q = HeartDisease_infer.query(variables=['heartdisease'], evidence={'age': 37, 'sex': 0})\n",
        "print(q)\n"
      ]
    },
    {
      "cell_type": "code",
      "source": [],
      "metadata": {
        "id": "CkYwsTk4k6uJ"
      },
      "execution_count": 16,
      "outputs": []
    },
    {
      "cell_type": "code",
      "source": [],
      "metadata": {
        "id": "6uiXG2qHk_C6"
      },
      "execution_count": null,
      "outputs": []
    }
  ]
}